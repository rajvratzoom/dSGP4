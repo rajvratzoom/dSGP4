{
 "cells": [
  {
   "cell_type": "markdown",
   "metadata": {},
   "source": [
    "# This file makes an API call to get the data for all starlink statellites"
   ]
  },
  {
   "cell_type": "markdown",
   "metadata": {},
   "source": [
    "## 1. dependencies"
   ]
  },
  {
   "cell_type": "code",
   "execution_count": 11,
   "metadata": {},
   "outputs": [],
   "source": [
    "import requests\n",
    "import json\n",
    "import configparser\n",
    "import xlsxwriter\n",
    "import time\n",
    "from datetime import datetime\n",
    "import pandas as pd"
   ]
  },
  {
   "cell_type": "markdown",
   "metadata": {},
   "source": [
    "## 2. API building"
   ]
  },
  {
   "cell_type": "code",
   "execution_count": 12,
   "metadata": {},
   "outputs": [],
   "source": [
    "uriBase                = \"https://www.space-track.org\"\n",
    "requestLogin           = \"/ajaxauth/login\"\n",
    "requestCmdAction       = \"/basicspacedata/query\" \n",
    "requestFindStarlinks   = \"/class/tle_latest/NORAD_CAT_ID/>40000/ORDINAL/1/OBJECT_NAME/STARLINK~~/format/json/orderby/NORAD_CAT_ID%20asc\""
   ]
  },
  {
   "cell_type": "markdown",
   "metadata": {},
   "source": [
    "## 3. Read Config file"
   ]
  },
  {
   "cell_type": "code",
   "execution_count": null,
   "metadata": {},
   "outputs": [],
   "source": [
    "config = configparser.ConfigParser()\n",
    "config.read(\"./SLTrack.ini\")\n",
    "configUsr = config.get(\"configuration\",\"username\")\n",
    "configPwd = config.get(\"configuration\",\"password\")  \n",
    "configOut = config.get(\"configuration\",\"output\")\n",
    "siteCred = {'identity': configUsr, 'password': configPwd}"
   ]
  },
  {
   "cell_type": "markdown",
   "metadata": {},
   "source": [
    "## 4. Making the API request and download the JSON file\n",
    "\n",
    "\n"
   ]
  },
  {
   "cell_type": "code",
   "execution_count": 19,
   "metadata": {},
   "outputs": [
    {
     "name": "stdout",
     "output_type": "stream",
     "text": [
      "Login successful!\n",
      "https://www.space-track.org/basicspacedata/query/class/tle_latest/NORAD_CAT_ID/>40000/ORDINAL/1/OBJECT_NAME/STARLINK~~/format/json/orderby/NORAD_CAT_ID%20asc\n",
      "Data retrieval successful!\n",
      "JSON data has been saved as 'Starlink_Satellites.json'\n"
     ]
    }
   ],
   "source": [
    "class MyError(Exception):\n",
    "    def __init___(self,args):\n",
    "        Exception.__init__(self,\"my exception was raised with arguments {0}\".format(args))\n",
    "        self.args = args\n",
    "\n",
    "\n",
    "\n",
    "wsline = 1\n",
    "\n",
    "with requests.Session() as session:\n",
    "    # Log in\n",
    "    resp = session.post(uriBase + requestLogin, data=siteCred)\n",
    "    if resp.status_code != 200:\n",
    "        raise MyError(resp, \"POST fail on login\")\n",
    "    \n",
    "    print(\"Login successful!\")\n",
    "\n",
    "    # Query for Starlink satellites\n",
    "    print(uriBase + requestCmdAction + requestFindStarlinks) #print the satellite query for verification\n",
    "    resp = session.get(uriBase + requestCmdAction + requestFindStarlinks)\n",
    "    if resp.status_code != 200:\n",
    "        print(resp)\n",
    "        raise MyError(resp, \"GET fail on request for Starlink satellites\")\n",
    "\n",
    "    print(\"Data retrieval successful!\")\n",
    "\n",
    "    # Parse response JSON\n",
    "    retData = json.loads(resp.text)\n",
    "\n",
    "    with open('Starlink_Satellites.json', 'w') as json_file: #save the json file\n",
    "        json.dump(retData, json_file, indent=4)\n",
    "\n",
    "    print(\"JSON data has been saved as 'Starlink_Satellites.json'\")"
   ]
  }
 ],
 "metadata": {
  "kernelspec": {
   "display_name": ".venv",
   "language": "python",
   "name": "python3"
  },
  "language_info": {
   "codemirror_mode": {
    "name": "ipython",
    "version": 3
   },
   "file_extension": ".py",
   "mimetype": "text/x-python",
   "name": "python",
   "nbconvert_exporter": "python",
   "pygments_lexer": "ipython3",
   "version": "3.13.2"
  }
 },
 "nbformat": 4,
 "nbformat_minor": 2
}

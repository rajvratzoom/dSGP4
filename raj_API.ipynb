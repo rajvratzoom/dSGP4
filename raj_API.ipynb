{
 "cells": [
  {
   "cell_type": "markdown",
   "metadata": {},
   "source": [
    "# This file makes an API call to get the data for all starlink statellites"
   ]
  },
  {
   "cell_type": "markdown",
   "metadata": {},
   "source": [
    "## 1. dependencies"
   ]
  },
  {
   "cell_type": "code",
   "execution_count": 7,
   "metadata": {},
   "outputs": [],
   "source": [
    "import requests\n",
    "import json\n",
    "import configparser\n",
    "import xlsxwriter\n",
    "import time\n",
    "from datetime import datetime\n",
    "import dsgp4"
   ]
  },
  {
   "cell_type": "markdown",
   "metadata": {},
   "source": [
    "## 2. API building"
   ]
  },
  {
   "cell_type": "code",
   "execution_count": 8,
   "metadata": {},
   "outputs": [],
   "source": [
    "uriBase                = \"https://www.space-track.org\"\n",
    "requestLogin           = \"/ajaxauth/login\"\n",
    "requestCmdAction       = \"/basicspacedata/query\" \n",
    "requestFindStarlinks   = \"/class/tle_latest/NORAD_CAT_ID/>40000/ORDINAL/1/OBJECT_NAME/STARLINK~~/format/json/orderby/NORAD_CAT_ID%20asc\""
   ]
  },
  {
   "cell_type": "markdown",
   "metadata": {},
   "source": [
    "## 3. Read Config file"
   ]
  },
  {
   "cell_type": "code",
   "execution_count": 9,
   "metadata": {},
   "outputs": [],
   "source": [
    "config = configparser.ConfigParser()\n",
    "config.read(\"./SLTrack.ini\")\n",
    "configUsr = config.get(\"configuration\",\"username\")\n",
    "configPwd = config.get(\"configuration\",\"password\")\n",
    "configOut = config.get(\"configuration\",\"output\")\n",
    "siteCred = {'identity': configUsr, 'password': configPwd}"
   ]
  },
  {
   "cell_type": "markdown",
   "metadata": {},
   "source": [
    "## 4. Create an Excel File to store satellite data"
   ]
  },
  {
   "cell_type": "code",
   "execution_count": 10,
   "metadata": {},
   "outputs": [],
   "source": [
    "now = datetime.now()\n",
    "nowStr = now.strftime(\"%Y/%m/%d %H:%M:%S\")\n",
    "\n",
    "workbook = xlsxwriter.Workbook(\"TLE data\")\n",
    "\n",
    "worksheet = workbook.add_worksheet(\"starlink TLEs\")"
   ]
  },
  {
   "cell_type": "markdown",
   "metadata": {},
   "source": [
    "## 5. Edit the Spreadsheet with correct headers"
   ]
  },
  {
   "cell_type": "code",
   "execution_count": 11,
   "metadata": {},
   "outputs": [],
   "source": [
    "worksheet.write('A1','NORAD_CAT_ID')#\n",
    "worksheet.write('B1','OBJECT_NAME')#\n",
    "worksheet.write('C1','EPOCH') #\n",
    "worksheet.write('D1',\"TLE_LINE0\")#\n",
    "worksheet.write('E1',\"TLE_LINE1\")#\n",
    "worksheet.write('F1',\"TLE_LINE2\")#\n",
    "wsline = 1"
   ]
  },
  {
   "cell_type": "markdown",
   "metadata": {},
   "source": [
    "## 6. Making the API request and download the JSON file\n",
    "\n",
    "\n"
   ]
  },
  {
   "cell_type": "code",
   "execution_count": 12,
   "metadata": {},
   "outputs": [
    {
     "name": "stdout",
     "output_type": "stream",
     "text": [
      "Login successful!\n",
      "https://www.space-track.org/basicspacedata/query/class/tle_latest/NORAD_CAT_ID/>40000/ORDINAL/1/OBJECT_NAME/STARLINK~~/format/json/orderby/NORAD_CAT_ID%20asc\n",
      "Data retrieval successful!\n",
      "JSON data has been saved as 'Starlink_Satellites.json'\n"
     ]
    }
   ],
   "source": [
    "class MyError(Exception):\n",
    "    def __init___(self,args):\n",
    "        Exception.__init__(self,\"my exception was raised with arguments {0}\".format(args))\n",
    "        self.args = args\n",
    "\n",
    "\n",
    "\n",
    "wsline = 1\n",
    "\n",
    "with requests.Session() as session:\n",
    "    # Log in\n",
    "    resp = session.post(uriBase + requestLogin, data=siteCred)\n",
    "    if resp.status_code != 200:\n",
    "        raise MyError(resp, \"POST fail on login\")\n",
    "    \n",
    "    print(\"Login successful!\")\n",
    "\n",
    "    # Query for Starlink satellites\n",
    "    print(uriBase + requestCmdAction + requestFindStarlinks) #print the satellite query for verification\n",
    "    resp = session.get(uriBase + requestCmdAction + requestFindStarlinks)\n",
    "    if resp.status_code != 200:\n",
    "        print(resp)\n",
    "        raise MyError(resp, \"GET fail on request for Starlink satellites\")\n",
    "\n",
    "    print(\"Data retrieval successful!\")\n",
    "\n",
    "    # Parse response JSON\n",
    "    retData = json.loads(resp.text)\n",
    "\n",
    "    with open('Starlink_Satellites.json', 'w') as json_file: #save the json file\n",
    "        json.dump(retData, json_file, indent=4)\n",
    "\n",
    "    print(\"JSON data has been saved as 'Starlink_Satellites.json'\")"
   ]
  },
  {
   "cell_type": "code",
   "execution_count": 13,
   "metadata": {},
   "outputs": [
    {
     "ename": "ValueError",
     "evalue": "First line not compatible with TLE format.",
     "output_type": "error",
     "traceback": [
      "\u001b[31m---------------------------------------------------------------------------\u001b[39m",
      "\u001b[31mValueError\u001b[39m                                Traceback (most recent call last)",
      "\u001b[36mCell\u001b[39m\u001b[36m \u001b[39m\u001b[32mIn[13]\u001b[39m\u001b[32m, line 2\u001b[39m\n\u001b[32m      1\u001b[39m \u001b[38;5;28;01mimport\u001b[39;00m\u001b[38;5;250m \u001b[39m\u001b[34;01mdsgp4\u001b[39;00m\n\u001b[32m----> \u001b[39m\u001b[32m2\u001b[39m tles=\u001b[43mdsgp4\u001b[49m\u001b[43m.\u001b[49m\u001b[43mtle\u001b[49m\u001b[43m.\u001b[49m\u001b[43mload\u001b[49m\u001b[43m(\u001b[49m\u001b[33;43m'\u001b[39;49m\u001b[33;43mStarlink_Satellites.json\u001b[39;49m\u001b[33;43m'\u001b[39;49m\u001b[43m)\u001b[49m\n",
      "\u001b[36mFile \u001b[39m\u001b[32mc:\\Users\\User\\Desktop\\GIT PROJECTS\\SP3172\\dSGP4\\dsgp4\\tle.py:319\u001b[39m, in \u001b[36mload\u001b[39m\u001b[34m(file_name)\u001b[39m\n\u001b[32m    316\u001b[39m line = lines[i]\n\u001b[32m    317\u001b[39m \u001b[38;5;28;01mif\u001b[39;00m \u001b[38;5;129;01mnot\u001b[39;00m (line.startswith(\u001b[33m'\u001b[39m\u001b[33m1 \u001b[39m\u001b[33m'\u001b[39m) \u001b[38;5;129;01mor\u001b[39;00m line.startswith(\u001b[33m'\u001b[39m\u001b[33m2 \u001b[39m\u001b[33m'\u001b[39m)):\n\u001b[32m    318\u001b[39m     \u001b[38;5;66;03m# This is a line0 (extra name line)\u001b[39;00m\n\u001b[32m--> \u001b[39m\u001b[32m319\u001b[39m     tle = \u001b[43mTLE\u001b[49m\u001b[43m(\u001b[49m\u001b[43mlines\u001b[49m\u001b[43m[\u001b[49m\u001b[43mi\u001b[49m\u001b[43m:\u001b[49m\u001b[43mi\u001b[49m\u001b[43m+\u001b[49m\u001b[32;43m3\u001b[39;49m\u001b[43m]\u001b[49m\u001b[43m)\u001b[49m\n\u001b[32m    320\u001b[39m     i += \u001b[32m3\u001b[39m\n\u001b[32m    321\u001b[39m \u001b[38;5;28;01melse\u001b[39;00m:\n\u001b[32m    322\u001b[39m     \u001b[38;5;66;03m# This is assumed to be line1 (first line of a TLE)\u001b[39;00m\n",
      "\u001b[36mFile \u001b[39m\u001b[32mc:\\Users\\User\\Desktop\\GIT PROJECTS\\SP3172\\dSGP4\\dsgp4\\tle.py:346\u001b[39m, in \u001b[36mTLE.__init__\u001b[39m\u001b[34m(self, data)\u001b[39m\n\u001b[32m    344\u001b[39m \u001b[38;5;28;01mdef\u001b[39;00m\u001b[38;5;250m \u001b[39m\u001b[34m__init__\u001b[39m(\u001b[38;5;28mself\u001b[39m, data):\n\u001b[32m    345\u001b[39m     \u001b[38;5;28;01mif\u001b[39;00m \u001b[38;5;28misinstance\u001b[39m(data, \u001b[38;5;28mlist\u001b[39m) \u001b[38;5;129;01mor\u001b[39;00m \u001b[38;5;28misinstance\u001b[39m(data, \u001b[38;5;28mstr\u001b[39m):\n\u001b[32m--> \u001b[39m\u001b[32m346\u001b[39m         \u001b[38;5;28mself\u001b[39m._lines, \u001b[38;5;28mself\u001b[39m._data = \u001b[43mload_from_lines\u001b[49m\u001b[43m(\u001b[49m\u001b[43mdata\u001b[49m\u001b[43m)\u001b[49m\n\u001b[32m    347\u001b[39m     \u001b[38;5;28;01melif\u001b[39;00m \u001b[38;5;28misinstance\u001b[39m(data, \u001b[38;5;28mdict\u001b[39m):\n\u001b[32m    348\u001b[39m         \u001b[38;5;28mself\u001b[39m._lines, \u001b[38;5;28mself\u001b[39m._data = load_from_data(data)\n",
      "\u001b[36mFile \u001b[39m\u001b[32mc:\\Users\\User\\Desktop\\GIT PROJECTS\\SP3172\\dSGP4\\dsgp4\\tle.py:125\u001b[39m, in \u001b[36mload_from_lines\u001b[39m\u001b[34m(lines, opsmode)\u001b[39m\n\u001b[32m    122\u001b[39m     data[\u001b[33m'\u001b[39m\u001b[33m_nddot\u001b[39m\u001b[33m'\u001b[39m]= torch.tensor(\u001b[38;5;28mfloat\u001b[39m(line[\u001b[32m44\u001b[39m] + \u001b[33m'\u001b[39m\u001b[33m.\u001b[39m\u001b[33m'\u001b[39m + line[\u001b[32m45\u001b[39m:\u001b[32m50\u001b[39m])/(xpdotp*\u001b[32m1440.0\u001b[39m*\u001b[32m1440\u001b[39m))\n\u001b[32m    124\u001b[39m \u001b[38;5;28;01melse\u001b[39;00m:\n\u001b[32m--> \u001b[39m\u001b[32m125\u001b[39m     \u001b[38;5;28;01mraise\u001b[39;00m \u001b[38;5;167;01mValueError\u001b[39;00m(\u001b[33m'\u001b[39m\u001b[33mFirst line not compatible with TLE format.\u001b[39m\u001b[33m'\u001b[39m)\n\u001b[32m    127\u001b[39m line = line2.rstrip()\n\u001b[32m    129\u001b[39m \u001b[38;5;28;01mif\u001b[39;00m (\u001b[38;5;28mlen\u001b[39m(line) >= \u001b[32m69\u001b[39m \u001b[38;5;129;01mand\u001b[39;00m\n\u001b[32m    130\u001b[39m     line.startswith(\u001b[33m'\u001b[39m\u001b[33m2 \u001b[39m\u001b[33m'\u001b[39m) \u001b[38;5;129;01mand\u001b[39;00m\n\u001b[32m    131\u001b[39m     line[\u001b[32m7\u001b[39m] == \u001b[33m'\u001b[39m\u001b[33m \u001b[39m\u001b[33m'\u001b[39m \u001b[38;5;129;01mand\u001b[39;00m\n\u001b[32m   (...)\u001b[39m\u001b[32m    139\u001b[39m     line[\u001b[32m46\u001b[39m] == \u001b[33m'\u001b[39m\u001b[33m.\u001b[39m\u001b[33m'\u001b[39m \u001b[38;5;129;01mand\u001b[39;00m\n\u001b[32m    140\u001b[39m     line[\u001b[32m51\u001b[39m] == \u001b[33m'\u001b[39m\u001b[33m \u001b[39m\u001b[33m'\u001b[39m):\n",
      "\u001b[31mValueError\u001b[39m: First line not compatible with TLE format."
     ]
    }
   ],
   "source": [
    "import dsgp4\n",
    "tles=dsgp4.tle.load('Starlink_Satellites.json')"
   ]
  },
  {
   "cell_type": "markdown",
   "metadata": {},
   "source": [
    "## Convert the JSON into an excel file with only the TLE"
   ]
  },
  {
   "cell_type": "code",
   "execution_count": null,
   "metadata": {},
   "outputs": [],
   "source": [
    "satCount = len(retData)\n",
    "    print(f\"Number of Starlink satellites retrieved: {satCount}\")\n",
    "\n",
    "    satIds = []\n",
    "\n",
    "    # Loop through each satellite entry\n",
    "    for e in retData:\n",
    "        # Fetch satellite data safely with defaults\n",
    "        catId = e.get('NORAD_CAT_ID', 'NA')\n",
    "        Sat_name = e.get('OBJECT_NAME', 'NA')\n",
    "        Epoch = e.get('EPOCH', 'NA')\n",
    "        TLE_line_0 = e.get('TLE_LINE0', 'NA')\n",
    "        TLE_line_1 = e.get('TLE_LINE1', 'NA')\n",
    "        TLE_line_2 = e.get('TLE_LINE2', 'NA')\n",
    "\n",
    "        print(f\"Scanning satellite {Sat_name} at epoch {Epoch}\")\n",
    "\n",
    "        # Append NORAD ID to list\n",
    "        satIds.append(catId)\n",
    "\n",
    "        # Handle NORAD_CAT_ID being 'NA' to avoid ValueError on int()\n",
    "        catId_value = int(catId) if catId != 'NA' else 'NA'\n",
    "\n",
    "        # Write data to Excel worksheet\n",
    "        worksheet.write(wsline, 0, catId_value)\n",
    "        worksheet.write(wsline, 1, Sat_name)\n",
    "        worksheet.write(wsline, 2, Epoch)\n",
    "        worksheet.write(wsline, 3, TLE_line_0)\n",
    "        worksheet.write(wsline, 4, TLE_line_1)\n",
    "        worksheet.write(wsline, 5, TLE_line_2)\n",
    "\n",
    "        wsline += 1  # Move to next row for the next satellite\n",
    "\n",
    "# Close workbook after writing\n",
    "workbook.close()\n",
    "\n",
    "print(\"Completed session and closed workbook.\")\n"
   ]
  }
 ],
 "metadata": {
  "kernelspec": {
   "display_name": ".venv",
   "language": "python",
   "name": "python3"
  },
  "language_info": {
   "codemirror_mode": {
    "name": "ipython",
    "version": 3
   },
   "file_extension": ".py",
   "mimetype": "text/x-python",
   "name": "python",
   "nbconvert_exporter": "python",
   "pygments_lexer": "ipython3",
   "version": "3.13.2"
  }
 },
 "nbformat": 4,
 "nbformat_minor": 2
}

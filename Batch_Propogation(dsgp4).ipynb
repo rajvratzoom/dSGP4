{
 "cells": [
  {
   "cell_type": "markdown",
   "metadata": {},
   "source": [
    "# Batch Propogation of TLEs we obtained from Space Track\n",
    "In this notebook we will propogate the TLEs we obtained from space track using the sgp4 propogator. However we will make use of the batch propogator that incorporates pytorch methods and tensors to speed up the porpogation process of TLEs"
   ]
  },
  {
   "cell_type": "markdown",
   "metadata": {},
   "source": [
    "## Dependencies"
   ]
  },
  {
   "cell_type": "code",
   "execution_count": 45,
   "metadata": {},
   "outputs": [],
   "source": [
    "import json\n",
    "import pandas as pd\n",
    "import dsgp4\n",
    "import numpy as np\n",
    "import torch"
   ]
  },
  {
   "cell_type": "markdown",
   "metadata": {},
   "source": [
    "## Read the TLEs from the JSON file and make them into objects"
   ]
  },
  {
   "cell_type": "code",
   "execution_count": null,
   "metadata": {},
   "outputs": [],
   "source": [
    "def raj_TLE_json_to_array_TLE_ojects(filename):\n",
    "\n",
    "    \"\"\"\n",
    "    This method takes in a json file with satellite data from Space track, and returns an array of TLE objects using\n",
    "    dsgp4.tle.TLE()\n",
    "\n",
    "    Parameters:\n",
    "    ----------------\n",
    "    filename (str): the json file name which was obtained from Space track\n",
    "\n",
    "    Returns:\n",
    "    ----------------\n",
    "    TLE_arr (numpy array): A numpy array with each of the TLEs converted into TLE objects using dsgp4.tle.TLE()\n",
    "\n",
    "    \"\"\"\n",
    "    \n",
    "    # Read the file\n",
    "    with open(filename, 'r') as file:\n",
    "        tle_data = json.load(file)\n",
    "\n",
    "    # Create a pandas dataframe with the data\n",
    "    df_tle = pd.DataFrame(tle_data)\n",
    "\n",
    "    # Create the full TLE string by combining line 1 and line 2, separated by a newline\n",
    "    df_tle[\"TLE\"] = df_tle['TLE_LINE1'] + '\\n' + df_tle['TLE_LINE2']\n",
    "\n",
    "    TLE_lst = []\n",
    "\n",
    "    for TLE in df_tle['TLE']:\n",
    "        TLE_lst.append(dsgp4.tle.TLE(TLE))\n",
    "\n",
    "    TLE_arr = np.array(TLE_lst)\n",
    "\n",
    "    return TLE_arr\n",
    "\n",
    "\n",
    "TLE_arr = raj_TLE_json_to_array_TLE_ojects('Starlink_Satellites.json')"
   ]
  },
  {
   "cell_type": "markdown",
   "metadata": {},
   "source": [
    "## Batch Propogation"
   ]
  },
  {
   "cell_type": "code",
   "execution_count": 1,
   "metadata": {},
   "outputs": [
    {
     "ename": "NameError",
     "evalue": "name 'TLE_arr' is not defined",
     "output_type": "error",
     "traceback": [
      "\u001b[31m---------------------------------------------------------------------------\u001b[39m",
      "\u001b[31mNameError\u001b[39m                                 Traceback (most recent call last)",
      "\u001b[36mCell\u001b[39m\u001b[36m \u001b[39m\u001b[32mIn[1]\u001b[39m\u001b[32m, line 1\u001b[39m\n\u001b[32m----> \u001b[39m\u001b[32m1\u001b[39m \u001b[38;5;28;01mdef\u001b[39;00m\u001b[38;5;250m \u001b[39m\u001b[34mraj_batch_propogate\u001b[39m(TLE_arr,propogation_time,steps,TLEs_limit = \u001b[38;5;28mlen\u001b[39m(\u001b[43mTLE_arr\u001b[49m)):\n\u001b[32m      2\u001b[39m \u001b[38;5;250m    \u001b[39m\u001b[33;03m\"\"\"\u001b[39;00m\n\u001b[32m      3\u001b[39m \u001b[33;03m    This method takes in an array of TLEs and returns a\u001b[39;00m\n\u001b[32m      4\u001b[39m \u001b[33;03m    dsgp4.tle.TLE()\u001b[39;00m\n\u001b[32m   (...)\u001b[39m\u001b[32m     13\u001b[39m \n\u001b[32m     14\u001b[39m \u001b[33;03m    \"\"\"\u001b[39;00m\n\u001b[32m     17\u001b[39m     tles_ = []\n",
      "\u001b[31mNameError\u001b[39m: name 'TLE_arr' is not defined"
     ]
    }
   ],
   "source": [
    "def raj_batch_propogate(TLE_arr,propogation_time,steps,TLEs_limit = len(TLE_arr)):\n",
    "    \"\"\"\n",
    "    This method takes in an array of TLEs and returns a\n",
    "    dsgp4.tle.TLE()\n",
    "\n",
    "    Parameters:\n",
    "    ----------------\n",
    "    filename (str): the json file name which was obtained from Space track\n",
    "\n",
    "    Returns:\n",
    "    ----------------\n",
    "    TLE_arr (numpy array): A numpy array with each of the TLEs converted into TLE objects using dsgp4.tle.TLE()\n",
    "\n",
    "    \"\"\"\n",
    "\n",
    "\n",
    "    tles_ = []\n",
    "    for tle in TLE_arr[0:TLEs_limit]:\n",
    "        tle_ += [tle]*steps\n",
    "    \n",
    "    tsinces = torch.cat([torch.linspace(0,propogation_time)]*len(TLE_arr))\n",
    "    # initiate the TLESs\n",
    "    _,tle_batch = dsgp4.initialize_tle(tles_)\n",
    "\n",
    "    states_teme = dsgp4.propagate_batch(tle_batch,tsinces)\n",
    "\n",
    "    return states_teme\n",
    "\n",
    "\n",
    "\n",
    "tles_=[]\n",
    "for tle in TLE_arr[0:100]: #copy each tle multiple times for each epoch to calculate \n",
    "    tles_+=[tle]*10000\n",
    "\n",
    "\n",
    "tsinces = torch.cat([torch.linspace(0,24*60,10000)]*len(TLE_arr[0:100]))\n",
    "#first let's initialize them:\n",
    "_,tle_batch=dsgp4.initialize_tle(tles_)\n",
    "\n",
    "\n",
    "#we propagate the batch of 3,000 TLEs for 1 day:\n",
    "states_teme=dsgp4.propagate_batch(tle_batch,tsinces)\n",
    "\n",
    "type(states_teme)"
   ]
  },
  {
   "cell_type": "code",
   "execution_count": 64,
   "metadata": {},
   "outputs": [
    {
     "data": {
      "text/plain": [
       "tensor([[-2.8978e+03,  2.7173e+03,  5.1754e+03],\n",
       "        [-5.9448e+00, -5.0241e+00, -6.8608e-01]])"
      ]
     },
     "execution_count": 64,
     "metadata": {},
     "output_type": "execute_result"
    }
   ],
   "source": [
    "states_teme[0]"
   ]
  }
 ],
 "metadata": {
  "kernelspec": {
   "display_name": ".venv",
   "language": "python",
   "name": "python3"
  },
  "language_info": {
   "codemirror_mode": {
    "name": "ipython",
    "version": 3
   },
   "file_extension": ".py",
   "mimetype": "text/x-python",
   "name": "python",
   "nbconvert_exporter": "python",
   "pygments_lexer": "ipython3",
   "version": "3.13.2"
  }
 },
 "nbformat": 4,
 "nbformat_minor": 2
}
